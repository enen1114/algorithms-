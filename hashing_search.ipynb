{
  "nbformat": 4,
  "nbformat_minor": 0,
  "metadata": {
    "colab": {
      "name": "hashing search",
      "provenance": [],
      "authorship_tag": "ABX9TyMnJS9fRaJ6VtMrlZ+qJNPr",
      "include_colab_link": true
    },
    "kernelspec": {
      "name": "python3",
      "display_name": "Python 3"
    }
  },
  "cells": [
    {
      "cell_type": "markdown",
      "metadata": {
        "id": "view-in-github",
        "colab_type": "text"
      },
      "source": [
        "<a href=\"https://colab.research.google.com/github/enen1114/algorithms-/blob/master/hashing_search.ipynb\" target=\"_parent\"><img src=\"https://colab.research.google.com/assets/colab-badge.svg\" alt=\"Open In Colab\"/></a>"
      ]
    },
    {
      "cell_type": "code",
      "metadata": {
        "id": "dXUi5-u1A_at",
        "outputId": "ad5d9a06-434f-48cc-b28a-189717ad3498",
        "colab": {
          "base_uri": "https://localhost:8080/",
          "height": 235
        }
      },
      "source": [
        "#線性探測法\n",
        "import random\n",
        "\n",
        "INDEXBOX=10 #雜湊表最大元素\n",
        "MAXNUM=7  #最大資料個數\n",
        "\n",
        "def print_data(data,max_number):\n",
        "  print('\\t',end='')\n",
        "  for i in range(max_number):\n",
        "    print('[%2d]'%data[i],end='')\n",
        "  print()\n",
        "\n",
        "def create_table(num,index):\n",
        "  tmp=num%INDEXBOX\n",
        "  while True:\n",
        "    if index[tmp]==-1:\n",
        "      index[tmp]=num\n",
        "      break\n",
        "    else:\n",
        "      tmp=(tmp+1)%INDEXBOX\n",
        "\n",
        "#Main\n",
        "index=[None]*INDEXBOX\n",
        "data=[None]*MAXNUM\n",
        "\n",
        "print('原始陣列值:')\n",
        "for i in range(MAXNUM):\n",
        "  data[i]=random.randint(1,20)\n",
        "for i in range(INDEXBOX):\n",
        "  index[i]=-1\n",
        "print_data(data,MAXNUM)\n",
        "\n",
        "print('雜湊表內容:')\n",
        "for i in range(MAXNUM):\n",
        "  create_table(data[i],index)\n",
        "  print(' %2d=>'%data[i],end='')\n",
        "  print_data(index,INDEXBOX)\n",
        "\n",
        "print('完成雜湊表:')\n",
        "print_data(index,INDEXBOX)"
      ],
      "execution_count": 6,
      "outputs": [
        {
          "output_type": "stream",
          "text": [
            "原始陣列值:\n",
            "\t[10][19][10][20][ 5][17][15]\n",
            "雜湊表內容:\n",
            " 10=>\t[10][-1][-1][-1][-1][-1][-1][-1][-1][-1]\n",
            " 19=>\t[10][-1][-1][-1][-1][-1][-1][-1][-1][19]\n",
            " 10=>\t[10][10][-1][-1][-1][-1][-1][-1][-1][19]\n",
            " 20=>\t[10][10][20][-1][-1][-1][-1][-1][-1][19]\n",
            "  5=>\t[10][10][20][-1][-1][ 5][-1][-1][-1][19]\n",
            " 17=>\t[10][10][20][-1][-1][ 5][-1][17][-1][19]\n",
            " 15=>\t[10][10][20][-1][-1][ 5][15][17][-1][19]\n",
            "完成雜湊表:\n",
            "\t[10][10][20][-1][-1][ 5][15][17][-1][19]\n"
          ],
          "name": "stdout"
        }
      ]
    },
    {
      "cell_type": "code",
      "metadata": {
        "id": "kIFmtJpOC4-b",
        "outputId": "1dcb7f7c-5997-49d3-bddd-a7a62eb5cca1",
        "colab": {
          "base_uri": "https://localhost:8080/",
          "height": 235
        }
      },
      "source": [
        "#平方探測\n",
        "import random\n",
        "\n",
        "INDEXBOX=10 #雜湊表最大元素\n",
        "MAXNUM=7  #最大資料個數\n",
        "\n",
        "def print_data(data,max_number):\n",
        "  print('\\t',end='')\n",
        "  for i in range(max_number):\n",
        "    print('[%2d]'%data[i],end='')\n",
        "  print()\n",
        "\n",
        "def create_table(num,index):\n",
        "  tmp=num%INDEXBOX\n",
        "  i=1\n",
        "  while True:\n",
        "    if index[tmp]==-1:\n",
        "      index[tmp]=num\n",
        "      break\n",
        "    else:\n",
        "      tmp=(tmp+i**2)%INDEXBOX\n",
        "\n",
        "#Main\n",
        "index=[None]*INDEXBOX\n",
        "data=[None]*MAXNUM\n",
        "\n",
        "print('原始陣列值:')\n",
        "for i in range(MAXNUM):\n",
        "  data[i]=random.randint(1,20)\n",
        "for i in range(INDEXBOX):\n",
        "  index[i]=-1\n",
        "print_data(data,MAXNUM)\n",
        "\n",
        "print('雜湊表內容:')\n",
        "for i in range(MAXNUM):\n",
        "  create_table(data[i],index)\n",
        "  print(' %2d=>'%data[i],end='')\n",
        "  print_data(index,INDEXBOX)\n",
        "\n",
        "print('完成雜湊表:')\n",
        "print_data(index,INDEXBOX)"
      ],
      "execution_count": 8,
      "outputs": [
        {
          "output_type": "stream",
          "text": [
            "原始陣列值:\n",
            "\t[ 1][13][ 5][ 9][19][ 2][20]\n",
            "雜湊表內容:\n",
            "  1=>\t[-1][ 1][-1][-1][-1][-1][-1][-1][-1][-1]\n",
            " 13=>\t[-1][ 1][-1][13][-1][-1][-1][-1][-1][-1]\n",
            "  5=>\t[-1][ 1][-1][13][-1][ 5][-1][-1][-1][-1]\n",
            "  9=>\t[-1][ 1][-1][13][-1][ 5][-1][-1][-1][ 9]\n",
            " 19=>\t[19][ 1][-1][13][-1][ 5][-1][-1][-1][ 9]\n",
            "  2=>\t[19][ 1][ 2][13][-1][ 5][-1][-1][-1][ 9]\n",
            " 20=>\t[19][ 1][ 2][13][20][ 5][-1][-1][-1][ 9]\n",
            "完成雜湊表:\n",
            "\t[19][ 1][ 2][13][20][ 5][-1][-1][-1][ 9]\n"
          ],
          "name": "stdout"
        }
      ]
    },
    {
      "cell_type": "code",
      "metadata": {
        "id": "BUSgoeZ6OQ0k",
        "outputId": "e56a91b2-1316-4303-d45d-c7fb86edab85",
        "colab": {
          "base_uri": "https://localhost:8080/",
          "height": 235
        }
      },
      "source": [
        "#再雜湊\n",
        "import random\n",
        "\n",
        "INDEXBOX=10 #雜湊表最大元素\n",
        "MAXNUM=7  #最大資料個數\n",
        "\n",
        "def print_data(data,max_number):\n",
        "  print('\\t',end='')\n",
        "  for i in range(max_number):\n",
        "    print('[%2d]'%data[i],end='')\n",
        "  print()\n",
        "\n",
        "def create_table(num,index):\n",
        "  tmp=num%INDEXBOX\n",
        "  i=1\n",
        "  while True:\n",
        "    if index[tmp]==-1:\n",
        "      index[tmp]=num\n",
        "      break\n",
        "    else:\n",
        "      tmp=(tmp+2*i)%INDEXBOX\n",
        "\n",
        "#Main\n",
        "index=[None]*INDEXBOX\n",
        "data=[None]*MAXNUM\n",
        "\n",
        "print('原始陣列值:')\n",
        "for i in range(MAXNUM):\n",
        "  data[i]=random.randint(1,20)\n",
        "for i in range(INDEXBOX):\n",
        "  index[i]=-1\n",
        "print_data(data,MAXNUM)\n",
        "\n",
        "print('雜湊表內容:')\n",
        "for i in range(MAXNUM):\n",
        "  create_table(data[i],index)\n",
        "  print(' %2d=>'%data[i],end='')\n",
        "  print_data(index,INDEXBOX)\n",
        "\n",
        "print('完成雜湊表:')\n",
        "print_data(index,INDEXBOX)"
      ],
      "execution_count": 11,
      "outputs": [
        {
          "output_type": "stream",
          "text": [
            "原始陣列值:\n",
            "\t[20][19][16][ 4][ 9][ 7][ 6]\n",
            "雜湊表內容:\n",
            " 20=>\t[20][-1][-1][-1][-1][-1][-1][-1][-1][-1]\n",
            " 19=>\t[20][-1][-1][-1][-1][-1][-1][-1][-1][19]\n",
            " 16=>\t[20][-1][-1][-1][-1][-1][16][-1][-1][19]\n",
            "  4=>\t[20][-1][-1][-1][ 4][-1][16][-1][-1][19]\n",
            "  9=>\t[20][ 9][-1][-1][ 4][-1][16][-1][-1][19]\n",
            "  7=>\t[20][ 9][-1][-1][ 4][-1][16][ 7][-1][19]\n",
            "  6=>\t[20][ 9][-1][-1][ 4][-1][16][ 7][ 6][19]\n",
            "完成雜湊表:\n",
            "\t[20][ 9][-1][-1][ 4][-1][16][ 7][ 6][19]\n"
          ],
          "name": "stdout"
        }
      ]
    },
    {
      "cell_type": "code",
      "metadata": {
        "id": "23tzKcPOPrkD"
      },
      "source": [
        ""
      ],
      "execution_count": null,
      "outputs": []
    }
  ]
}