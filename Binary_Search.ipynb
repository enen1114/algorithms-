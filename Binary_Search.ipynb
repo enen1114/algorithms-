{
  "nbformat": 4,
  "nbformat_minor": 0,
  "metadata": {
    "colab": {
      "name": "Binary Search",
      "provenance": [],
      "authorship_tag": "ABX9TyPMDMXdfFMrjxMoyTfSXplV",
      "include_colab_link": true
    },
    "kernelspec": {
      "name": "python3",
      "display_name": "Python 3"
    }
  },
  "cells": [
    {
      "cell_type": "markdown",
      "metadata": {
        "id": "view-in-github",
        "colab_type": "text"
      },
      "source": [
        "<a href=\"https://colab.research.google.com/github/enen1114/algorithms-/blob/master/Binary_Search.ipynb\" target=\"_parent\"><img src=\"https://colab.research.google.com/assets/colab-badge.svg\" alt=\"Open In Colab\"/></a>"
      ]
    },
    {
      "cell_type": "code",
      "metadata": {
        "id": "4zEQOf_y3nRB",
        "outputId": "220ed829-ab40-43f7-ad1b-3e00989e30e2",
        "colab": {
          "base_uri": "https://localhost:8080/",
          "height": 87
        }
      },
      "source": [
        "def binarySearch(arr,l,r,x):\n",
        "  if r >= l:\n",
        "    mid = l+(r-l)//2\n",
        "    if arr[mid]==x:\n",
        "      return mid\n",
        "\n",
        "    elif arr[mid]>x:\n",
        "      return binarySearch(arr,l,mid-1,x)\n",
        "    else:\n",
        "      return binarySearch(arr,mid+1,r,x)\n",
        "  else:\n",
        "    return-1\n",
        "\n",
        "def Bubble_Sort(datas):\n",
        "    for i in range(1, len(datas)): # \n",
        "        for j in range(len(datas)-i):   # \n",
        "            if datas[j] > datas[j+1]:   # \n",
        "                datas[j], datas[j+1] = datas[j+1], datas[j]\n",
        "    return datas\n",
        "\n",
        "if __name__ == '__main__':\n",
        "    a = input(\"請輸入五個數\")\n",
        "    b = a.split() #將字串分解成串列\n",
        "    arr = Bubble_Sort(b) #將字串改成串列\n",
        "    print(arr)\n",
        "\n",
        "    arr = Bubble_Sort(b)\n",
        "    x = input(\"請輸入五個數中其中一個數\") \n",
        "\n",
        "#function call\n",
        "result = binarySearch(arr,0,len(arr)-1,x)\n",
        "\n",
        "    \n",
        "if result!=-1:\n",
        "  print(\"元素在索引%d\"%result)\n",
        "else:\n",
        "  print(\"陣列中找不到該元素\")"
      ],
      "execution_count": 15,
      "outputs": [
        {
          "output_type": "stream",
          "text": [
            "請輸入五個數5 2 4 3 8\n",
            "['2', '3', '4', '5', '8']\n",
            "請輸入五個數中其中一個數5\n",
            "元素在索引3\n"
          ],
          "name": "stdout"
        }
      ]
    }
  ]
}