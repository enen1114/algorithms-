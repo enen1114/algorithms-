{
  "nbformat": 4,
  "nbformat_minor": 0,
  "metadata": {
    "colab": {
      "name": "0930selctionsort.ipynb",
      "provenance": [],
      "collapsed_sections": [],
      "include_colab_link": true
    },
    "kernelspec": {
      "name": "python3",
      "display_name": "Python 3"
    }
  },
  "cells": [
    {
      "cell_type": "markdown",
      "metadata": {
        "id": "view-in-github",
        "colab_type": "text"
      },
      "source": [
        "<a href=\"https://colab.research.google.com/github/enen1114/algorithms-/blob/master/0930selctionsort.ipynb\" target=\"_parent\"><img src=\"https://colab.research.google.com/assets/colab-badge.svg\" alt=\"Open In Colab\"/></a>"
      ]
    },
    {
      "cell_type": "markdown",
      "metadata": {
        "id": "W-Z0kMaDLJOp"
      },
      "source": [
        "Selection sort (選擇排序)"
      ]
    },
    {
      "cell_type": "code",
      "metadata": {
        "id": "8tM3sv79HQ_V",
        "outputId": "62142456-49ba-49de-842c-b150935ed92a",
        "colab": {
          "base_uri": "https://localhost:8080/",
          "height": 527
        }
      },
      "source": [
        "def Selction_Sort(datas):\n",
        "    for i in range(len(datas)-1): #n\n",
        "        min = i # 第一次選從第一個數開始,第二次從第二個數開始 #1\n",
        "        for j in range(i+1, len(datas)):    # 用記錄的max數與其他的比較 #n^2\n",
        "            if datas[j] < datas[min]: #1\n",
        "                min = j #1\n",
        "\n",
        "        datas[i], datas[min] = datas[min], datas[i] #1\n",
        "\n",
        "        print(datas) #1\n",
        "        print('---'*15) #1\n",
        "    return datas #1\n",
        "\n",
        "\n",
        "if __name__ == '__main__':\n",
        "    import random\n",
        "    a = list(range(15))\n",
        "    random.shuffle(a)\n",
        "    print(a)\n",
        "    a = Selction_Sort(a)\n",
        "    print(a)"
      ],
      "execution_count": null,
      "outputs": [
        {
          "output_type": "stream",
          "text": [
            "[2, 5, 9, 3, 14, 11, 7, 8, 0, 12, 10, 6, 1, 4, 13]\n",
            "[0, 5, 9, 3, 14, 11, 7, 8, 2, 12, 10, 6, 1, 4, 13]\n",
            "---------------------------------------------\n",
            "[0, 1, 9, 3, 14, 11, 7, 8, 2, 12, 10, 6, 5, 4, 13]\n",
            "---------------------------------------------\n",
            "[0, 1, 2, 3, 14, 11, 7, 8, 9, 12, 10, 6, 5, 4, 13]\n",
            "---------------------------------------------\n",
            "[0, 1, 2, 3, 14, 11, 7, 8, 9, 12, 10, 6, 5, 4, 13]\n",
            "---------------------------------------------\n",
            "[0, 1, 2, 3, 4, 11, 7, 8, 9, 12, 10, 6, 5, 14, 13]\n",
            "---------------------------------------------\n",
            "[0, 1, 2, 3, 4, 5, 7, 8, 9, 12, 10, 6, 11, 14, 13]\n",
            "---------------------------------------------\n",
            "[0, 1, 2, 3, 4, 5, 6, 8, 9, 12, 10, 7, 11, 14, 13]\n",
            "---------------------------------------------\n",
            "[0, 1, 2, 3, 4, 5, 6, 7, 9, 12, 10, 8, 11, 14, 13]\n",
            "---------------------------------------------\n",
            "[0, 1, 2, 3, 4, 5, 6, 7, 8, 12, 10, 9, 11, 14, 13]\n",
            "---------------------------------------------\n",
            "[0, 1, 2, 3, 4, 5, 6, 7, 8, 9, 10, 12, 11, 14, 13]\n",
            "---------------------------------------------\n",
            "[0, 1, 2, 3, 4, 5, 6, 7, 8, 9, 10, 12, 11, 14, 13]\n",
            "---------------------------------------------\n",
            "[0, 1, 2, 3, 4, 5, 6, 7, 8, 9, 10, 11, 12, 14, 13]\n",
            "---------------------------------------------\n",
            "[0, 1, 2, 3, 4, 5, 6, 7, 8, 9, 10, 11, 12, 14, 13]\n",
            "---------------------------------------------\n",
            "[0, 1, 2, 3, 4, 5, 6, 7, 8, 9, 10, 11, 12, 13, 14]\n",
            "---------------------------------------------\n",
            "[0, 1, 2, 3, 4, 5, 6, 7, 8, 9, 10, 11, 12, 13, 14]\n"
          ],
          "name": "stdout"
        }
      ]
    },
    {
      "cell_type": "markdown",
      "metadata": {
        "id": "MiWPt8bALDN5"
      },
      "source": [
        "請加入註解\n"
      ]
    }
  ]
}