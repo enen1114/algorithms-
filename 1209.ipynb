{
  "nbformat": 4,
  "nbformat_minor": 0,
  "metadata": {
    "colab": {
      "name": "1209",
      "provenance": [],
      "authorship_tag": "ABX9TyOto7nmkYBxJjrFMca2OGZQ",
      "include_colab_link": true
    },
    "kernelspec": {
      "name": "python3",
      "display_name": "Python 3"
    }
  },
  "cells": [
    {
      "cell_type": "markdown",
      "metadata": {
        "id": "view-in-github",
        "colab_type": "text"
      },
      "source": [
        "<a href=\"https://colab.research.google.com/github/enen1114/algorithms-/blob/master/1209.ipynb\" target=\"_parent\"><img src=\"https://colab.research.google.com/assets/colab-badge.svg\" alt=\"Open In Colab\"/></a>"
      ]
    },
    {
      "cell_type": "code",
      "metadata": {
        "id": "aevKt-99Wgh-"
      },
      "source": [
        "def BottomUpCutRod(p, n):\r\n",
        "    r = [0]*(n+1)\r\n",
        "    for i in range(1, n+1):\r\n",
        "        if n == 0:\r\n",
        "            return 0\r\n",
        "        q =0\r\n",
        "        for j in range(1, i+1):\r\n",
        "            q = max(q, p[j]+r[i-j])\r\n",
        "            r[i] = q\r\n",
        "    return r[n],r\r\n",
        "p=[0,1,5,8,9,10,17,17,20,24,30]\r\n",
        "a = int(input(\"輸入一個長度:\"))\r\n",
        "print(BottomUpCutRod(p, a))   #  (30, [0, 1, 5, 8, 10, 13, 17, 18, 22, 25, 30])"
      ],
      "execution_count": null,
      "outputs": []
    }
  ]
}