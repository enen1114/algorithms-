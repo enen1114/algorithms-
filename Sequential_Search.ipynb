{
  "nbformat": 4,
  "nbformat_minor": 0,
  "metadata": {
    "colab": {
      "name": "Sequential Search",
      "provenance": [],
      "authorship_tag": "ABX9TyMMwmru9rf/Q4+baCoCJnzI",
      "include_colab_link": true
    },
    "kernelspec": {
      "name": "python3",
      "display_name": "Python 3"
    }
  },
  "cells": [
    {
      "cell_type": "markdown",
      "metadata": {
        "id": "view-in-github",
        "colab_type": "text"
      },
      "source": [
        "<a href=\"https://colab.research.google.com/github/enen1114/algorithms-/blob/master/Sequential_Search.ipynb\" target=\"_parent\"><img src=\"https://colab.research.google.com/assets/colab-badge.svg\" alt=\"Open In Colab\"/></a>"
      ]
    },
    {
      "cell_type": "code",
      "metadata": {
        "id": "6pb_LMMExDG2",
        "outputId": "3cf33476-99b9-4f7b-9c93-40e2af3b0327",
        "colab": {
          "base_uri": "https://localhost:8080/",
          "height": 34
        }
      },
      "source": [
        "data = [20,31,50,17,16,36,19,8]\n",
        "\n",
        "def sequential_search(data,key):\n",
        "  for i in data:\n",
        "    if i == key:\n",
        "      print(\"找到了\")\n",
        "      break\n",
        "  else: \n",
        "    print(\"找不到\")\n",
        "sequential_search(data,17)"
      ],
      "execution_count": 8,
      "outputs": [
        {
          "output_type": "stream",
          "text": [
            "找到了\n"
          ],
          "name": "stdout"
        }
      ]
    }
  ]
}