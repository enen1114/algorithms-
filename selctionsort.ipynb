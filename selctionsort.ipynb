{
  "nbformat": 4,
  "nbformat_minor": 0,
  "metadata": {
    "colab": {
      "name": "selctionsort.ipynb",
      "provenance": [],
      "collapsed_sections": [],
      "include_colab_link": true
    },
    "kernelspec": {
      "name": "python3",
      "display_name": "Python 3"
    }
  },
  "cells": [
    {
      "cell_type": "markdown",
      "metadata": {
        "id": "view-in-github",
        "colab_type": "text"
      },
      "source": [
        "<a href=\"https://colab.research.google.com/github/enen1114/algorithms-/blob/master/selctionsort.ipynb\" target=\"_parent\"><img src=\"https://colab.research.google.com/assets/colab-badge.svg\" alt=\"Open In Colab\"/></a>"
      ]
    },
    {
      "cell_type": "markdown",
      "metadata": {
        "id": "W-Z0kMaDLJOp"
      },
      "source": [
        "9/30 Selection sort (選擇排序)"
      ]
    },
    {
      "cell_type": "code",
      "metadata": {
        "id": "8tM3sv79HQ_V",
        "outputId": "466372e4-805a-4812-bfd8-c88149672743",
        "colab": {
          "base_uri": "https://localhost:8080/",
          "height": 357
        }
      },
      "source": [
        "def Selction_Sort(datas):\n",
        "    for i in range(len(datas)-1): #n\n",
        "        min = i # 第一次選從第一個數開始,第二次從第二個數開始 #1\n",
        "        for j in range(i+1, len(datas)):    # 用記錄的max數與其他的比較 #n^2\n",
        "            if datas[j] < datas[min]: #1\n",
        "                min = j #1\n",
        "\n",
        "        datas[i], datas[min] = datas[min], datas[i] #1\n",
        "\n",
        "        print(datas) #1\n",
        "        print('---'*10) #1\n",
        "    return datas #1\n",
        "\n",
        "\n",
        "if __name__ == '__main__':\n",
        "    import random\n",
        "    a = list(range(10))\n",
        "    random.shuffle(a)\n",
        "    print(a)\n",
        "    a = Selction_Sort(a)\n",
        "    print(a)"
      ],
      "execution_count": null,
      "outputs": [
        {
          "output_type": "stream",
          "text": [
            "[8, 5, 3, 4, 6, 0, 1, 9, 2, 7]\n",
            "[0, 5, 3, 4, 6, 8, 1, 9, 2, 7]\n",
            "------------------------------\n",
            "[0, 1, 3, 4, 6, 8, 5, 9, 2, 7]\n",
            "------------------------------\n",
            "[0, 1, 2, 4, 6, 8, 5, 9, 3, 7]\n",
            "------------------------------\n",
            "[0, 1, 2, 3, 6, 8, 5, 9, 4, 7]\n",
            "------------------------------\n",
            "[0, 1, 2, 3, 4, 8, 5, 9, 6, 7]\n",
            "------------------------------\n",
            "[0, 1, 2, 3, 4, 5, 8, 9, 6, 7]\n",
            "------------------------------\n",
            "[0, 1, 2, 3, 4, 5, 6, 9, 8, 7]\n",
            "------------------------------\n",
            "[0, 1, 2, 3, 4, 5, 6, 7, 8, 9]\n",
            "------------------------------\n",
            "[0, 1, 2, 3, 4, 5, 6, 7, 8, 9]\n",
            "------------------------------\n",
            "[0, 1, 2, 3, 4, 5, 6, 7, 8, 9]\n"
          ],
          "name": "stdout"
        }
      ]
    },
    {
      "cell_type": "markdown",
      "metadata": {
        "id": "MiWPt8bALDN5"
      },
      "source": [
        "請加入註解\n"
      ]
    }
  ]
}