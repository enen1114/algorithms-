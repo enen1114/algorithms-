{
  "nbformat": 4,
  "nbformat_minor": 0,
  "metadata": {
    "colab": {
      "name": "1118期中考",
      "provenance": [],
      "collapsed_sections": [],
      "include_colab_link": true
    },
    "kernelspec": {
      "name": "python3",
      "display_name": "Python 3"
    }
  },
  "cells": [
    {
      "cell_type": "markdown",
      "metadata": {
        "id": "view-in-github",
        "colab_type": "text"
      },
      "source": [
        "<a href=\"https://colab.research.google.com/github/enen1114/algorithms-/blob/master/1118%E6%9C%9F%E4%B8%AD%E8%80%83.ipynb\" target=\"_parent\"><img src=\"https://colab.research.google.com/assets/colab-badge.svg\" alt=\"Open In Colab\"/></a>"
      ]
    },
    {
      "cell_type": "markdown",
      "metadata": {
        "id": "RLZwWaKZWt_6"
      },
      "source": [
        "selection sort\n"
      ]
    },
    {
      "cell_type": "code",
      "metadata": {
        "colab": {
          "base_uri": "https://localhost:8080/"
        },
        "id": "S5N-f-6MVAZP",
        "outputId": "1687698b-a39c-4267-8b33-c4c584c244f0"
      },
      "source": [
        "def Selction_Sort(datas): # 定義選擇排序函式\n",
        "    for i in range(len(datas)): # 從list中依序排序   \n",
        "        max = i   # 初始化，最大值的index先為自己 \n",
        "        for j in range(i+1, len(datas)):   # 從index比自己後面的數開始，更新最大值 \n",
        "            if datas[j] > datas[max]:   # 比較出比目前max更大的值\n",
        "                max = j  # 儲存最大值的index\n",
        "\n",
        "        datas[i], datas[max] = datas[max], datas[i]   #和最大值位置互換\n",
        "\n",
        "        print(datas) \n",
        "        print('---'*11) \n",
        "    return datas  # 排序完成\n",
        "\n",
        "\n",
        "if __name__ == '__main__':\n",
        "    import random\n",
        "    x = random.sample(range(100),8)  # 0~99之中隨機非重複的抽取8個\n",
        "    print(x)\n",
        "    print('---'*11) \n",
        "    x = Selction_Sort(x)  #呼叫排序\n",
        "    print(x)"
      ],
      "execution_count": 16,
      "outputs": [
        {
          "output_type": "stream",
          "text": [
            "[58, 14, 45, 38, 54, 74, 57, 46]\n",
            "---------------------------------\n",
            "[74, 14, 45, 38, 54, 58, 57, 46]\n",
            "---------------------------------\n",
            "[74, 58, 45, 38, 54, 14, 57, 46]\n",
            "---------------------------------\n",
            "[74, 58, 57, 38, 54, 14, 45, 46]\n",
            "---------------------------------\n",
            "[74, 58, 57, 54, 38, 14, 45, 46]\n",
            "---------------------------------\n",
            "[74, 58, 57, 54, 46, 14, 45, 38]\n",
            "---------------------------------\n",
            "[74, 58, 57, 54, 46, 45, 14, 38]\n",
            "---------------------------------\n",
            "[74, 58, 57, 54, 46, 45, 38, 14]\n",
            "---------------------------------\n",
            "[74, 58, 57, 54, 46, 45, 38, 14]\n",
            "---------------------------------\n",
            "[74, 58, 57, 54, 46, 45, 38, 14]\n"
          ],
          "name": "stdout"
        }
      ]
    },
    {
      "cell_type": "markdown",
      "metadata": {
        "id": "D16j76zZW8fP"
      },
      "source": [
        "insertion sort"
      ]
    },
    {
      "cell_type": "code",
      "metadata": {
        "colab": {
          "base_uri": "https://localhost:8080/"
        },
        "id": "ngXuzoGjW7Q_",
        "outputId": "9c8afb16-3d09-4af4-e4fb-18291c14dec6"
      },
      "source": [
        "def insertionSort(arr):   # 定義插入排序函式\n",
        "  \n",
        "    for i in range(1, len(arr)):  # 第一個不用排序\n",
        "  \n",
        "        key = arr[i]  # 暫存目前的值\n",
        "  \n",
        "        j = i-1 # j是比較對象，從自己\"前一個\"開始比較\n",
        "        while j >=0 and key < arr[j] :  # 在list範圍內找到比自己大的數\n",
        "                arr[j+1] = arr[j]   # 將找到的數往後移\n",
        "                j -= 1  # 再指向前一個數\n",
        "        arr[j+1] = key  # 將暫存值放入\"第一個比自己小的數\"之後\n",
        "        print(arr)\n",
        "        print('---'*11) \n",
        "    return arr  # 排序完成\n",
        "\n",
        "if __name__ == '__main__':\n",
        "    import random  \n",
        "    x = random.sample(range(100),8)  # 0~99之中隨機非重複的抽取8個\n",
        "    print(x)\n",
        "    print('---'*11) \n",
        "    x = insertionSort(x)  #呼叫排序\n",
        "    print(x)"
      ],
      "execution_count": 17,
      "outputs": [
        {
          "output_type": "stream",
          "text": [
            "[79, 64, 88, 53, 26, 18, 62, 39]\n",
            "---------------------------------\n",
            "[64, 79, 88, 53, 26, 18, 62, 39]\n",
            "---------------------------------\n",
            "[64, 79, 88, 53, 26, 18, 62, 39]\n",
            "---------------------------------\n",
            "[53, 64, 79, 88, 26, 18, 62, 39]\n",
            "---------------------------------\n",
            "[26, 53, 64, 79, 88, 18, 62, 39]\n",
            "---------------------------------\n",
            "[18, 26, 53, 64, 79, 88, 62, 39]\n",
            "---------------------------------\n",
            "[18, 26, 53, 62, 64, 79, 88, 39]\n",
            "---------------------------------\n",
            "[18, 26, 39, 53, 62, 64, 79, 88]\n",
            "---------------------------------\n",
            "[18, 26, 39, 53, 62, 64, 79, 88]\n"
          ],
          "name": "stdout"
        }
      ]
    }
  ]
}