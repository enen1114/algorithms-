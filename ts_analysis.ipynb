{
  "nbformat": 4,
  "nbformat_minor": 0,
  "metadata": {
    "colab": {
      "name": "ts_analysis.ipynb",
      "provenance": [],
      "authorship_tag": "ABX9TyMYjGwjkxdFzMS11A/g1zig",
      "include_colab_link": true
    },
    "kernelspec": {
      "name": "python3",
      "display_name": "Python 3"
    }
  },
  "cells": [
    {
      "cell_type": "markdown",
      "metadata": {
        "id": "view-in-github",
        "colab_type": "text"
      },
      "source": [
        "<a href=\"https://colab.research.google.com/github/enen1114/algorithms-/blob/master/ts_analysis.ipynb\" target=\"_parent\"><img src=\"https://colab.research.google.com/assets/colab-badge.svg\" alt=\"Open In Colab\"/></a>"
      ]
    },
    {
      "cell_type": "code",
      "metadata": {
        "id": "lknQecNu3Pg-",
        "outputId": "55f8f2ff-6518-42cc-b35c-7d92b805283d",
        "colab": {
          "base_uri": "https://localhost:8080/"
        }
      },
      "source": [
        "year = int(input(\"請輸入一個年份:\"))\n",
        "if (year % 4) == 0:\n",
        "  if (year % 100) == 0:\n",
        "    if (year % 400) == 0:\n",
        "      print(\"{0} 是潤年\".format(year))   # 百年並且能被400整除的是潤年\n",
        "elif year % 400 == 0:        \n",
        "  print(\"{0} 是潤年\".format(year))   # 不是百年能被4整除的是潤年\n",
        "else:\n",
        "  print('平年')"
      ],
      "execution_count": 17,
      "outputs": [
        {
          "output_type": "stream",
          "text": [
            "請輸入一個年份:1991\n",
            "平年\n"
          ],
          "name": "stdout"
        }
      ]
    },
    {
      "cell_type": "code",
      "metadata": {
        "id": "yCGEdOYy8qqf",
        "outputId": "0e8926f6-26da-4d65-834f-555a49a54070",
        "colab": {
          "base_uri": "https://localhost:8080/"
        }
      },
      "source": [
        "year = [2000,2004,2008,2012,2016,2020,2024,2028,2032,2036,2040]\n",
        "y = int(input(\"請輸入2000-2040的年份:\"))\n",
        "if y in year :\n",
        "  print(\"%s是潤年\" %y) \n",
        "else:\n",
        "  print(\"%s不是潤年\" %y)"
      ],
      "execution_count": 27,
      "outputs": [
        {
          "output_type": "stream",
          "text": [
            "請輸入2000-2040的年份:2000\n",
            "2000是潤年\n"
          ],
          "name": "stdout"
        }
      ]
    }
  ]
}