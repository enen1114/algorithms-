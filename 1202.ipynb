{
  "nbformat": 4,
  "nbformat_minor": 0,
  "metadata": {
    "colab": {
      "name": "1202",
      "provenance": [],
      "authorship_tag": "ABX9TyMqmT21aSvKj+9Z15To5FZN",
      "include_colab_link": true
    },
    "kernelspec": {
      "name": "python3",
      "display_name": "Python 3"
    }
  },
  "cells": [
    {
      "cell_type": "markdown",
      "metadata": {
        "id": "view-in-github",
        "colab_type": "text"
      },
      "source": [
        "<a href=\"https://colab.research.google.com/github/enen1114/algorithms-/blob/master/1202.ipynb\" target=\"_parent\"><img src=\"https://colab.research.google.com/assets/colab-badge.svg\" alt=\"Open In Colab\"/></a>"
      ]
    },
    {
      "cell_type": "code",
      "metadata": {
        "colab": {
          "base_uri": "https://localhost:8080/"
        },
        "id": "-OeBoWecI_xy",
        "outputId": "f9a5f55e-56ef-4001-c6ba-57fbfb8566da"
      },
      "source": [
        "#t = 面額\n",
        "t = [25,20,5,1]\n",
        "\n",
        "#n = 多少錢\n",
        "def change(t,n):\n",
        "\n",
        "  m = [0 for _ in range(len(t))]\n",
        "  for i,money in enumerate(t):\n",
        "    m[i] = n//money\n",
        "    print(m)\n",
        "    n = n % money\n",
        "  return m,n\n",
        "\n",
        "x = int(input(\"請輸入一個金額:\"))\n",
        "print(change(t,x))\n",
        "\n"
      ],
      "execution_count": null,
      "outputs": [
        {
          "output_type": "stream",
          "text": [
            "請輸入一個金額:59\n",
            "[2, 0, 0, 0]\n",
            "[2, 0, 0, 0]\n",
            "[2, 0, 1, 0]\n",
            "[2, 0, 1, 4]\n",
            "([2, 0, 1, 4], 0)\n"
          ],
          "name": "stdout"
        }
      ]
    },
    {
      "cell_type": "code",
      "metadata": {
        "colab": {
          "base_uri": "https://localhost:8080/",
          "height": 216
        },
        "id": "ure902uAONnc",
        "outputId": "c5735587-62d4-4107-835e-4cd5268e0dad"
      },
      "source": [
        "\n",
        "\n",
        "def count(S, m, n ): \n",
        "\n",
        "\t# If n is 0 then there is 1 \n",
        "\t# solution (do not include any coin) \n",
        "\tif (n == 0): \n",
        "\t\treturn 1\n",
        "\n",
        "\t# If n is less than 0 then no \n",
        "\t# solution exists \n",
        "\tif (n < 0): \n",
        "\t\treturn 0; \n",
        "\n",
        "\t# If there are no coins and n \n",
        "\t# is greater than 0, then no \n",
        "\t# solution exist \n",
        "\tif (m <=0 and n >= 1): \n",
        "\t\treturn 0\n",
        "\n",
        "\t# count is sum of solutions (i) \n",
        "\t# including S[m-1] (ii) excluding S[m-1] \n",
        "\treturn count( S, m - 1, n ) + count( S, m, n-S[m-1] ); \n",
        "\n",
        "# Driver program to test above function \n",
        "arr = [25,20,5,1] \n",
        "m = len(arr)\n",
        "a= int(input(\"輸入金額\")) \n",
        "\n",
        "print(change(arr,a)) "
      ],
      "execution_count": 59,
      "outputs": [
        {
          "output_type": "stream",
          "text": [
            "輸入金額23\n"
          ],
          "name": "stdout"
        },
        {
          "output_type": "error",
          "ename": "TypeError",
          "evalue": "ignored",
          "traceback": [
            "\u001b[0;31m---------------------------------------------------------------------------\u001b[0m",
            "\u001b[0;31mTypeError\u001b[0m                                 Traceback (most recent call last)",
            "\u001b[0;32m<ipython-input-59-291714ebfb27>\u001b[0m in \u001b[0;36m<module>\u001b[0;34m()\u001b[0m\n\u001b[1;32m     28\u001b[0m \u001b[0ma\u001b[0m\u001b[0;34m=\u001b[0m \u001b[0mint\u001b[0m\u001b[0;34m(\u001b[0m\u001b[0minput\u001b[0m\u001b[0;34m(\u001b[0m\u001b[0;34m\"輸入金額\"\u001b[0m\u001b[0;34m)\u001b[0m\u001b[0;34m)\u001b[0m\u001b[0;34m\u001b[0m\u001b[0;34m\u001b[0m\u001b[0m\n\u001b[1;32m     29\u001b[0m \u001b[0;34m\u001b[0m\u001b[0m\n\u001b[0;32m---> 30\u001b[0;31m \u001b[0mprint\u001b[0m\u001b[0;34m(\u001b[0m\u001b[0mchange\u001b[0m\u001b[0;34m(\u001b[0m\u001b[0marr\u001b[0m\u001b[0;34m,\u001b[0m\u001b[0ma\u001b[0m\u001b[0;34m)\u001b[0m\u001b[0;34m)\u001b[0m\u001b[0;34m\u001b[0m\u001b[0;34m\u001b[0m\u001b[0m\n\u001b[0m",
            "\u001b[0;31mTypeError\u001b[0m: change() missing 1 required positional argument: 'n'"
          ]
        }
      ]
    },
    {
      "cell_type": "code",
      "metadata": {
        "colab": {
          "base_uri": "https://localhost:8080/"
        },
        "id": "OkocwkgFh39w",
        "outputId": "26758668-8af6-4d00-a91d-4c2c34c5f61e"
      },
      "source": [
        "class itmcls(object):\n",
        "    def __init__(self, name, val, vol):\n",
        "        self.name = name\n",
        "        self.val = val\n",
        "        self.vol = vol\n",
        "        \n",
        "    def getvalue(self):\n",
        "        return self.val\n",
        "    \n",
        "    def getvol(self):\n",
        "        return self.vol\n",
        "    \n",
        "    def density(self):\n",
        "        return (self.val)/(self.vol)\n",
        "    \n",
        "    def __str__(self):\n",
        "        return self.name \n",
        " \n",
        "def buildbag(names, values, volumes):\n",
        "    bag = []\n",
        "    for i in range(len(names)):\n",
        "        bag.append(itmcls(names[i], values[i], volumes[i]))\n",
        "    return bag\n",
        "\n",
        "def greedy(items, maxvol, keyfunction):\n",
        "    itemscopy = sorted(items, key = keyfunction, reverse = True)\n",
        "    \n",
        "    result = []\n",
        "    totalval = 0 \n",
        "    totalvol = 0\n",
        "    \n",
        "    for i in range(len(items)):\n",
        "        if (totalvol + itemscopy[i].getvol() <= maxvol):\n",
        "            result.append(itemscopy[i])\n",
        "            totalval = totalval + itemscopy[i].getvalue()\n",
        "            totalvol = totalvol + itemscopy[i].getvol()\n",
        "            \n",
        "    return (result, totalval)\n",
        " \n",
        "\n",
        "itemlist = ['ps5', 'ipad pro12', 'macbook pro15', 'homepod', 'macmini']\n",
        "values = [17000,35000,60000,9000,20000]\n",
        "volumes = [5,1,4,3,2]\n",
        "itemlistt = buildbag(itemlist, values, volumes)\n",
        "maxvol = 10\n",
        " \n",
        "taken, totvalue = greedy(itemlistt, maxvol, itmcls.density)\n",
        " \n",
        "print('總金額 : ', totvalue)\n",
        " \n",
        "\n",
        "for i in range(len(taken)):\n",
        "    print('  ', taken[i])\n",
        "\n"
      ],
      "execution_count": 62,
      "outputs": [
        {
          "output_type": "stream",
          "text": [
            "總金額 :  124000\n",
            "   ipad pro12\n",
            "   macbook pro15\n",
            "   macmini\n",
            "   homepod\n"
          ],
          "name": "stdout"
        }
      ]
    },
    {
      "cell_type": "code",
      "metadata": {
        "colab": {
          "base_uri": "https://localhost:8080/"
        },
        "id": "DBedwhfpggrp",
        "outputId": "b681460e-cf81-4345-9545-01f54551e7b4"
      },
      "source": [
        "def knapsack(p, w, v):\n",
        "    n = len(p)\n",
        "    lists,arr = [],[[0] * (v + 1) for _ in range(n + 1)]\n",
        "\n",
        "    for i in range(1, n + 1):\n",
        "        for j in range(1, v + 1):\n",
        "            if w[i - 1] <= j:  # 如果當前物品的體積不超過揹包的容量，p[i-1]當前物品的價值，w[i-1]當前物品的體積\n",
        "                arr[i][j] = max(arr[i - 1][j], p[i - 1] + arr[i - 1][j - w[i - 1]])\n",
        "            else: #如果當前物品的體積超過揹包的容量\n",
        "                arr[i][j] = arr[i - 1][j]\n",
        "    remain = v\n",
        "\n",
        "    for i in range(n, 0, -1):\n",
        "        if arr[i][remain] > arr[i - 1][remain]:\n",
        "            lists.append(i - 1)  # (i-1)為當前物品的編號\n",
        "            remain -= w[i - 1]  # 容積減去已經找到的物品，再次尋找\n",
        "\n",
        "    return arr[-1][-1], lists\n",
        "\n",
        "\n",
        "if __name__ == '__main__':\n",
        "    itemlist = ['ps5', 'ipad pro12', 'macbook pro15', 'homepod', 'macmini']\n",
        "    p = [17000,35000,60000,9000,20000]  # 物品的價值\n",
        "    w = [5,1,4,3,2] # 物品佔的體積\n",
        "    v = 10  # 揹包的容量\n",
        "    print(knapsack(p, w, v))"
      ],
      "execution_count": 64,
      "outputs": [
        {
          "output_type": "stream",
          "text": [
            "(124000, [4, 3, 2, 1])\n"
          ],
          "name": "stdout"
        }
      ]
    },
    {
      "cell_type": "code",
      "metadata": {
        "id": "scvCKN1xh0p_"
      },
      "source": [
        ""
      ],
      "execution_count": null,
      "outputs": []
    }
  ]
}