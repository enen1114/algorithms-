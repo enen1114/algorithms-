{
  "nbformat": 4,
  "nbformat_minor": 0,
  "metadata": {
    "colab": {
      "name": "河內",
      "provenance": [],
      "authorship_tag": "ABX9TyMerEqyu0yD/h6LxmsasCR6",
      "include_colab_link": true
    },
    "kernelspec": {
      "name": "python3",
      "display_name": "Python 3"
    }
  },
  "cells": [
    {
      "cell_type": "markdown",
      "metadata": {
        "id": "view-in-github",
        "colab_type": "text"
      },
      "source": [
        "<a href=\"https://colab.research.google.com/github/enen1114/algorithms-/blob/master/%E6%B2%B3%E5%85%A7.ipynb\" target=\"_parent\"><img src=\"https://colab.research.google.com/assets/colab-badge.svg\" alt=\"Open In Colab\"/></a>"
      ]
    },
    {
      "cell_type": "code",
      "metadata": {
        "id": "6GbE9G4KEsd0",
        "outputId": "bf8f84bb-4f4f-42d6-adf7-7b33688b2402",
        "colab": {
          "base_uri": "https://localhost:8080/"
        }
      },
      "source": [
        "sum = 0\n",
        "def factorial(n):\n",
        "   if n==1:\n",
        "     return 1\n",
        "   return n * f(n-1)\n",
        "def hanoi(n, A, B, C):\n",
        "  if n == 1:\n",
        "    global sum\n",
        "    sum += 1\n",
        "    print(A + \"→\" + C + \" 執行次數:\" ,sum)\n",
        "    return\n",
        "  hanoi(n-1, A, C, B)\n",
        "  hanoi(1, A, B, C)\n",
        "  hanoi(n-1, B, A, C)\n",
        "\n",
        "def initialize():\n",
        "  global num\n",
        "  num = 1\n",
        "\n",
        "hanoi(5, \"A\", \"B\", \"C\")\n",
        "print(sum)"
      ],
      "execution_count": 19,
      "outputs": [
        {
          "output_type": "stream",
          "text": [
            "A→C 執行次數: 1\n",
            "A→B 執行次數: 2\n",
            "C→B 執行次數: 3\n",
            "A→C 執行次數: 4\n",
            "B→A 執行次數: 5\n",
            "B→C 執行次數: 6\n",
            "A→C 執行次數: 7\n",
            "A→B 執行次數: 8\n",
            "C→B 執行次數: 9\n",
            "C→A 執行次數: 10\n",
            "B→A 執行次數: 11\n",
            "C→B 執行次數: 12\n",
            "A→C 執行次數: 13\n",
            "A→B 執行次數: 14\n",
            "C→B 執行次數: 15\n",
            "A→C 執行次數: 16\n",
            "B→A 執行次數: 17\n",
            "B→C 執行次數: 18\n",
            "A→C 執行次數: 19\n",
            "B→A 執行次數: 20\n",
            "C→B 執行次數: 21\n",
            "C→A 執行次數: 22\n",
            "B→A 執行次數: 23\n",
            "B→C 執行次數: 24\n",
            "A→C 執行次數: 25\n",
            "A→B 執行次數: 26\n",
            "C→B 執行次數: 27\n",
            "A→C 執行次數: 28\n",
            "B→A 執行次數: 29\n",
            "B→C 執行次數: 30\n",
            "A→C 執行次數: 31\n",
            "31\n"
          ],
          "name": "stdout"
        }
      ]
    }
  ]
}